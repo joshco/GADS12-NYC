{
 "metadata": {
  "name": "",
  "signature": "sha256:2096ca96ed489694ded0f26b856c617a229a0937fe0db92a10404e1cb4ed2ede"
 },
 "nbformat": 3,
 "nbformat_minor": 0,
 "worksheets": [
  {
   "cells": [
    {
     "cell_type": "markdown",
     "metadata": {},
     "source": [
      "# Multiple Linear Regression Review\n",
      "\n",
      "Our goal is to predict the median value of a home in a Boston suburb.\n",
      "\n",
      "Response Variable:\n",
      "\n",
      "MEDV: Median value of owner-occupied homes in $1000's\n",
      "\n",
      "Explanatory Variables:\n",
      "\n",
      "CRIM: per capita crime rate by town \n",
      "ZN: proportion of residential land zoned for lots over 25,000 sq.ft. \n",
      "INDUS: proportion of non-retail business acres per town \n",
      "CHAS: Charles River dummy variable (= 1 if tract bounds river; 0 otherwise) \n",
      "NOX: nitric oxides concentration (parts per 10 million) \n",
      "RM: average number of rooms per dwelling \n",
      "AGE: proportion of owner-occupied units built prior to 1940 \n",
      "...\n"
     ]
    },
    {
     "cell_type": "code",
     "collapsed": false,
     "input": [
      "# TODO import the load_boston() convenience function from the `datasets` module of scikit-learn.\n",
      "from sklearn.datasets import load_boston\n"
     ],
     "language": "python",
     "metadata": {},
     "outputs": [],
     "prompt_number": 1
    },
    {
     "cell_type": "code",
     "collapsed": false,
     "input": [
      "# load_boston() returns an object containing data (the values of the features for the instances)\n",
      "# and targets (the values of the response variable for the instances)\n",
      "b = load_boston()"
     ],
     "language": "python",
     "metadata": {},
     "outputs": [],
     "prompt_number": 2
    },
    {
     "cell_type": "code",
     "collapsed": false,
     "input": [
      "# TODO print the `data` and `target` attributes of the `boston` object.\n",
      "# Hint: if you aren't sure what the attributes are called, use the built-in function `dir()` \n",
      "# to print all of the object's attributes and methods.\n",
      "dir(b)"
     ],
     "language": "python",
     "metadata": {},
     "outputs": [
      {
       "metadata": {},
       "output_type": "pyout",
       "prompt_number": 9,
       "text": [
        "['DESCR',\n",
        " '__class__',\n",
        " '__cmp__',\n",
        " '__contains__',\n",
        " '__delattr__',\n",
        " '__delitem__',\n",
        " '__dict__',\n",
        " '__doc__',\n",
        " '__eq__',\n",
        " '__format__',\n",
        " '__ge__',\n",
        " '__getattribute__',\n",
        " '__getitem__',\n",
        " '__gt__',\n",
        " '__hash__',\n",
        " '__init__',\n",
        " '__iter__',\n",
        " '__le__',\n",
        " '__len__',\n",
        " '__lt__',\n",
        " '__module__',\n",
        " '__ne__',\n",
        " '__new__',\n",
        " '__reduce__',\n",
        " '__reduce_ex__',\n",
        " '__repr__',\n",
        " '__setattr__',\n",
        " '__setitem__',\n",
        " '__sizeof__',\n",
        " '__str__',\n",
        " '__subclasshook__',\n",
        " '__weakref__',\n",
        " 'clear',\n",
        " 'copy',\n",
        " 'data',\n",
        " 'feature_names',\n",
        " 'fromkeys',\n",
        " 'get',\n",
        " 'has_key',\n",
        " 'items',\n",
        " 'iteritems',\n",
        " 'iterkeys',\n",
        " 'itervalues',\n",
        " 'keys',\n",
        " 'pop',\n",
        " 'popitem',\n",
        " 'setdefault',\n",
        " 'target',\n",
        " 'update',\n",
        " 'values',\n",
        " 'viewitems',\n",
        " 'viewkeys',\n",
        " 'viewvalues']"
       ]
      }
     ],
     "prompt_number": 9
    },
    {
     "cell_type": "code",
     "collapsed": false,
     "input": [
      "# TODO assign the object's data to a variable called X.\n",
      "# TODO assign the object's targets to a variable called y.\n",
      "x=b.data\n",
      "y=b.target"
     ],
     "language": "python",
     "metadata": {},
     "outputs": [],
     "prompt_number": 11
    },
    {
     "cell_type": "code",
     "collapsed": false,
     "input": [
      "# TODO  the types of X and y.dir\n",
      "x.type"
     ],
     "language": "python",
     "metadata": {},
     "outputs": [
      {
       "ename": "AttributeError",
       "evalue": "'numpy.ndarray' object has no attribute 'type'",
       "output_type": "pyerr",
       "traceback": [
        "\u001b[1;31m---------------------------------------------------------------------------\u001b[0m\n\u001b[1;31mAttributeError\u001b[0m                            Traceback (most recent call last)",
        "\u001b[1;32m<ipython-input-20-a10acc8eccc0>\u001b[0m in \u001b[0;36m<module>\u001b[1;34m()\u001b[0m\n\u001b[0;32m      1\u001b[0m \u001b[1;31m# TODO print the types of X and y.dir\u001b[0m\u001b[1;33m\u001b[0m\u001b[1;33m\u001b[0m\u001b[0m\n\u001b[1;32m----> 2\u001b[1;33m \u001b[0mx\u001b[0m\u001b[1;33m.\u001b[0m\u001b[0mtype\u001b[0m\u001b[1;33m\u001b[0m\u001b[0m\n\u001b[0m",
        "\u001b[1;31mAttributeError\u001b[0m: 'numpy.ndarray' object has no attribute 'type'"
       ]
      }
     ],
     "prompt_number": 20
    },
    {
     "cell_type": "code",
     "collapsed": false,
     "input": [
      "# TODO print the shapes of X and y.\n",
      "print x.shape\n",
      "print y.shape"
     ],
     "language": "python",
     "metadata": {},
     "outputs": [
      {
       "output_type": "stream",
       "stream": "stdout",
       "text": [
        "(506L, 13L)\n",
        "(506L,)\n"
       ]
      }
     ],
     "prompt_number": 22
    },
    {
     "cell_type": "code",
     "collapsed": false,
     "input": [
      "# TODO import the function `train_test_split()` from the `cross_validation` module of scikit-learn.\n",
      "from sklearn.cross_validation import train_test_split\n"
     ],
     "language": "python",
     "metadata": {},
     "outputs": [],
     "prompt_number": 24
    },
    {
     "cell_type": "code",
     "collapsed": false,
     "input": [
      "# TODO use `train_test_split()` to create separate training and test sets from X and y.\n",
      "# X_train, X_test, y_train, y_test = \n",
      "x_train, x_test, y_train, y_test = train_test_split(x,y)"
     ],
     "language": "python",
     "metadata": {},
     "outputs": [],
     "prompt_number": 25
    },
    {
     "cell_type": "code",
     "collapsed": false,
     "input": [
      "# TODO print the shapes of the training and test sets for the features and the values of the response variable.\n",
      "# What percent of the total instances were assigned to the test set?\n",
      "print x_train.shape\n",
      "print x_test.shape\n",
      "print x.shape"
     ],
     "language": "python",
     "metadata": {},
     "outputs": [
      {
       "output_type": "stream",
       "stream": "stdout",
       "text": [
        "(379L, 13L)\n",
        "(127L, 13L)\n",
        "(506L, 13L)\n"
       ]
      }
     ],
     "prompt_number": 42
    },
    {
     "cell_type": "code",
     "collapsed": false,
     "input": [
      "# TODO import the LinearRegression class from the linear_model module of scikit-learn.\n",
      "from sklearn.linear_model import LinearRegression"
     ],
     "language": "python",
     "metadata": {},
     "outputs": [],
     "prompt_number": 31
    },
    {
     "cell_type": "code",
     "collapsed": false,
     "input": [
      "# TODO create an instance of the LinearRegression class.\n",
      "# regressor = \n",
      "regressor = LinearRegression()"
     ],
     "language": "python",
     "metadata": {},
     "outputs": [],
     "prompt_number": 32
    },
    {
     "cell_type": "code",
     "collapsed": false,
     "input": [
      "# TODO train the regressor. Recall that an estimator is trained by calling its `fit()` method.\n",
      "# Training the estimator solves, or estimates, the values of its parameters.\n",
      "# Training an instance of LinearRegression means finding the values of the y-intercept and the coefficients of the features.\n",
      "# That is, we are finding the values of the matrix $\\beta$.\n",
      "regressor.fit(x_train,y_train)"
     ],
     "language": "python",
     "metadata": {},
     "outputs": [
      {
       "metadata": {},
       "output_type": "pyout",
       "prompt_number": 33,
       "text": [
        "LinearRegression(copy_X=True, fit_intercept=True, normalize=False)"
       ]
      }
     ],
     "prompt_number": 33
    },
    {
     "cell_type": "code",
     "collapsed": false,
     "input": [
      "# TODO Evalute the performance of the regressor on the test set.\n",
      "regressor.score(x_test,y_test)\n",
      "# TODO interpret the score."
     ],
     "language": "python",
     "metadata": {},
     "outputs": [
      {
       "metadata": {},
       "output_type": "pyout",
       "prompt_number": 36,
       "text": [
        "0.64202697880613457"
       ]
      }
     ],
     "prompt_number": 36
    },
    {
     "cell_type": "code",
     "collapsed": false,
     "input": [
      "# TODO predict the values of the response variable for the test set.\n",
      "# predictions = \n",
      "predictions=regressor.predict(x_test)\n",
      "print predictions"
     ],
     "language": "python",
     "metadata": {},
     "outputs": [
      {
       "output_type": "stream",
       "stream": "stdout",
       "text": [
        "[ 18.3272893   20.42394221  31.01643417  18.18370943  23.93721288\n",
        "  22.5346368   33.24842164  29.5644245   24.00188334  22.96445342\n",
        "  30.31414583   8.19748228  11.38496881  37.34488663  24.34765047\n",
        "  28.45718996  26.83819461  24.72547986  22.1591717   19.42149996\n",
        "  23.89224111  15.19527865  15.4929251   30.76422057  16.34005159\n",
        "  20.83902876  19.83797135  25.25960255  31.19730029  24.19148854\n",
        "  15.92316875  20.50954503  18.514655    29.9517323   27.53137524\n",
        "  30.36638879  31.55655791  36.04370506  21.34574131  12.05412291\n",
        "  16.46931024  23.36354939  36.95955469  18.82274482  19.21603529\n",
        "  24.22911028  18.22886969  15.89314562  35.22037038  32.82140288\n",
        "  29.98490276  23.27843224  16.13776867  21.97012156  25.27814116\n",
        "  18.88475276  27.74286571  22.69103775  16.92176132  28.32210586\n",
        "  24.47321047  19.30812363  15.60419357  18.67584273  23.86310895\n",
        "  23.7348575   18.24085282  27.64485049  21.04951412  34.91605039\n",
        "  26.9533499   29.21442207  26.24099493  14.06078296  19.21361085\n",
        "  29.74320826  25.51357422  19.28151767  15.28998616  10.97394616\n",
        "  25.37292457  32.18866381  14.81712724  17.90217253  32.71433501\n",
        "  25.83303425  20.96418394  16.77798473  34.37905736  21.32226508\n",
        "  13.91143538  37.15472218  18.66167495  25.11757758  20.37436587\n",
        "  23.82119707  16.21672337  27.79126894  13.88824247  24.52371879\n",
        "  15.76101551  21.28411778  36.2453216   35.32023456   9.9230743\n",
        "  19.99122058  19.55274697  20.50107192  16.14346721  37.9454121\n",
        "  14.94103138  20.65174021   3.90208187  22.61049904  12.9457895\n",
        "  17.85626464   9.12727097  22.25540254  23.90306119  14.16051704\n",
        "  22.90693195  23.40976039  13.03085964  28.36413965  23.00458839\n",
        "  37.03858452  20.01254271]\n"
       ]
      }
     ],
     "prompt_number": 39
    },
    {
     "cell_type": "code",
     "collapsed": false,
     "input": [
      "# Create a `for` loop to compare each prediction to the true price.\n",
      "# Hint: it is easy to iterate over two collections using the same collection with the built-in function `enumerate()`. \n",
      "# See [https://docs.python.org/2/library/functions.html#enumerate](https://docs.python.org/2/library/functions.html#enumerate)\n",
      "for i, p in enumerate(predictions):\n",
      "    print y_test[i],p\n"
     ],
     "language": "python",
     "metadata": {},
     "outputs": [
      {
       "output_type": "stream",
       "stream": "stdout",
       "text": [
        "16.0 18.3272892963\n",
        "16.7 20.4239422103\n",
        "29.4 31.0164341666\n",
        "20.0 18.1837094282\n",
        "50.0 23.9372128775\n",
        "20.0 22.5346368016\n",
        "37.2 33.2484216436\n",
        "22.5 29.5644244995\n",
        "21.9 24.001883338\n",
        "21.4 22.9644534156\n",
        "34.7 30.3141458278\n",
        "7.2 8.19748228186\n",
        "16.5 11.3849688069\n",
        "21.9 37.344886632\n",
        "29.6 24.3476504724\n",
        "28.7 28.4571899577\n",
        "22.6 26.8381946103\n",
        "23.9 24.7254798606\n",
        "11.9 22.1591716993\n",
        "19.1 19.421499964\n",
        "18.9 23.8922411129\n",
        "15.6 15.1952786515\n",
        "10.9 15.492925097\n",
        "28.7 30.7642205748\n",
        "14.9 16.3400515863\n",
        "22.0 20.8390287612\n",
        "17.7 19.8379713499\n",
        "23.8 25.2596025471\n",
        "32.5 31.1973002877\n",
        "22.2 24.191488538\n",
        "13.1 15.9231687465\n",
        "18.3 20.509545028\n",
        "18.0 18.5146549964\n",
        "24.1 29.951732301\n",
        "20.6 27.5313752424\n",
        "30.5 30.3663887879\n",
        "28.4 31.5565579125\n",
        "35.1 36.0437050613\n",
        "26.6 21.3457413111\n",
        "15.6 12.0541229087\n",
        "13.3 16.4693102357\n",
        "23.0 23.363549391\n",
        "32.4 36.9595546851\n",
        "22.6 18.8227448183\n",
        "15.2 19.2160352918\n",
        "21.7 24.2291102834\n",
        "12.1 18.2288696886\n",
        "17.6 15.8931456162\n",
        "34.6 35.2203703818\n",
        "50.0 32.8214028753\n",
        "24.0 29.9849027551\n",
        "23.1 23.2784322363\n",
        "20.6 16.1377686679\n",
        "21.2 21.9701215561\n",
        "23.3 25.278141161\n",
        "19.6 18.8847527598\n",
        "26.6 27.7428657123\n",
        "20.4 22.6910377522\n",
        "15.0 16.9217613154\n",
        "25.0 28.3221058615\n",
        "21.7 24.4732104654\n",
        "20.5 19.3081236304\n",
        "9.6 15.6041935665\n",
        "15.0 18.6758427333\n",
        "20.1 23.8631089535\n",
        "24.4 23.7348574988\n",
        "19.8 18.2408528154\n",
        "25.2 27.6448504936\n",
        "20.5 21.049514117\n",
        "39.8 34.9160503855\n",
        "23.9 26.9533499038\n",
        "42.8 29.214422073\n",
        "19.4 26.2409949345\n",
        "11.8 14.060782963\n",
        "14.6 19.2136108507\n",
        "25.0 29.7432082634\n",
        "29.8 25.5135742221\n",
        "27.1 19.2815176672\n",
        "18.4 15.2899861553\n",
        "15.2 10.9739461577\n",
        "21.5 25.3729245721\n",
        "33.2 32.188663813\n",
        "15.4 14.8171272416\n",
        "10.2 17.9021725292\n",
        "31.1 32.7143350147\n",
        "23.2 25.8330342541\n",
        "21.2 20.9641839437\n",
        "11.7 16.7779847332\n",
        "32.0 34.379057363\n",
        "19.7 21.3222650793\n",
        "17.2 13.9114353838\n",
        "48.3 37.154722176\n",
        "20.1 18.6616749518\n",
        "29.6 25.1175775825\n",
        "16.2 20.3743658657\n",
        "23.8 23.8211970695\n",
        "11.7 16.2167233725\n",
        "23.9 27.7912689425\n",
        "13.5 13.8882424667\n",
        "19.1 24.5237187902\n",
        "8.4 15.7610155102\n",
        "18.7 21.2841177751\n",
        "33.2 36.2453216029\n",
        "37.3 35.3202345617\n",
        "9.7 9.92307429587\n",
        "19.5 19.9912205766\n",
        "19.4 19.5527469725\n",
        "20.4 20.5010719164\n",
        "18.6 16.1434672086\n",
        "41.7 37.9454120992\n",
        "20.1 14.9410313833\n",
        "24.5 20.6517402096\n",
        "14.4 3.90208187124\n",
        "16.1 22.6104990355\n",
        "12.8 12.9457894953\n",
        "22.5 17.856264644\n",
        "13.2 9.12727096783\n",
        "22.5 22.2554025377\n",
        "20.5 23.903061187\n",
        "11.5 14.1605170387\n",
        "22.6 22.9069319452\n",
        "23.0 23.4097603919\n",
        "8.3 13.0308596358\n",
        "28.6 28.3641396516\n",
        "17.4 23.0045883862\n",
        "36.0 37.038584523\n",
        "19.9 20.0125427077\n"
       ]
      }
     ],
     "prompt_number": 41
    },
    {
     "cell_type": "code",
     "collapsed": false,
     "input": [],
     "language": "python",
     "metadata": {},
     "outputs": []
    }
   ],
   "metadata": {}
  }
 ]
}